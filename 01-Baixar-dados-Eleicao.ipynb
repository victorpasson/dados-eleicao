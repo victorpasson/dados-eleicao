{
 "cells": [
  {
   "cell_type": "code",
   "execution_count": null,
   "id": "f2bce583",
   "metadata": {},
   "outputs": [],
   "source": [
    "import pandas as pd\n",
    "import time"
   ]
  },
  {
   "cell_type": "code",
   "execution_count": null,
   "id": "c08f2e19",
   "metadata": {},
   "outputs": [],
   "source": [
    "df = pd.read_json(\"https://resultados.tse.jus.br/oficial/ele2022/544/config/mun-e000544-cm.json\")"
   ]
  },
  {
   "cell_type": "code",
   "execution_count": null,
   "id": "6b90050a",
   "metadata": {},
   "outputs": [],
   "source": [
    "dic1 = df.abr.to_dict()"
   ]
  },
  {
   "cell_type": "code",
   "execution_count": null,
   "id": "3a13599c",
   "metadata": {},
   "outputs": [],
   "source": [
    "df3 = pd.DataFrame()\n",
    "df3['ufr'] = 0.0\n",
    "df3['uf'] = 0.0"
   ]
  },
  {
   "cell_type": "code",
   "execution_count": null,
   "id": "9ac88851",
   "metadata": {},
   "outputs": [],
   "source": [
    "for i in dic1:\n",
    "    df3 = pd.concat([df3, df3.from_dict(dic1[i]['mu'])], axis=0)\n",
    "    df3.ufr.fillna(dic1[i]['cd'], inplace=True)\n",
    "    df3.uf.fillna(dic1[i]['ds'], inplace=True)\n",
    "    \n",
    "df3.reset_index(inplace=True)\n",
    "df3.drop('index', axis=1, inplace=True)\n",
    "df3.drop(['c', 'z'], axis=1, inplace=True)"
   ]
  },
  {
   "cell_type": "code",
   "execution_count": null,
   "id": "9da62dbe",
   "metadata": {
    "scrolled": true
   },
   "outputs": [],
   "source": [
    "df3"
   ]
  },
  {
   "cell_type": "code",
   "execution_count": null,
   "id": "0ed19af1",
   "metadata": {},
   "outputs": [],
   "source": [
    "links = \"https://resultados.tse.jus.br/oficial/ele2022/544/dados/\" + df3['ufr'].str.lower() + \"/\" + df3['ufr'].str.lower() + df3['cd'] + \"-c0001-e000544-v.json\""
   ]
  },
  {
   "cell_type": "code",
   "execution_count": null,
   "id": "feea7f06",
   "metadata": {},
   "outputs": [],
   "source": [
    "of_df = pd.DataFrame(columns=['dt', 'ht', 'tf', 'and', 'tpabr', 'cdabr', 's', 'snt', 'si',\n",
    "       'sni', 'sa', 'sna', 'pst', 'psnt', 'psi', 'psni', 'psa', 'psna',\n",
    "       'ea', 'ena', 'esi', 'esni', 'c', 'a', 'pea', 'pena', 'pesi', 'pesni',\n",
    "       'pa', 'pc', 'vscv', 'vnom', 'tv', 'vvc', 'vb', 'tvn', 'vn', 'vnt', 'vp',\n",
    "       'vv', 'van', 'vansj', 'pvnom', 'pvvc', 'pvb', 'ptvn', 'pvn', 'pvnt',\n",
    "       'pvp', 'pvv', 'pvan', 'pvansj', 'seq', 'n', 'vap', 'pvap', 'e', 'st'])\n",
    "\n",
    "linha = 0\n",
    "\n",
    "for i in links:\n",
    "    \n",
    "    print(\"Verificando Linha:\", linha)\n",
    "    linha += 1\n",
    "    \n",
    "    # Puxando os dados do TSE\n",
    "    new = pd.read_json(i)\n",
    "    \n",
    "    # Tratando os dados\n",
    "    sem = pd.DataFrame(new['abr'].to_dict()[0]).drop(['cand', 'st', 'e'], axis=1)\n",
    "    com = pd.DataFrame(pd.DataFrame(new['abr'].to_dict()[0])['cand'].to_dict()).transpose()\n",
    "    join = pd.concat([sem, com], axis=1)\n",
    "    join.reset_index(inplace=True)\n",
    "    join.drop('index', axis=1, inplace=True)\n",
    "    \n",
    "    # Colocando em um novo dataframe\n",
    "    of_df = pd.concat([of_df, join], axis=0)\n",
    "    of_df.reset_index(inplace=True)\n",
    "    of_df.drop('index', axis=1, inplace=True)\n",
    "    \n",
    "    # Esperando para não sobrecarregar o servidor do TSE\n",
    "    time.sleep(0.3)"
   ]
  },
  {
   "cell_type": "code",
   "execution_count": null,
   "id": "f240dc25",
   "metadata": {},
   "outputs": [],
   "source": [
    "of_df"
   ]
  }
 ],
 "metadata": {
  "kernelspec": {
   "display_name": "Python 3 (ipykernel)",
   "language": "python",
   "name": "python3"
  },
  "language_info": {
   "codemirror_mode": {
    "name": "ipython",
    "version": 3
   },
   "file_extension": ".py",
   "mimetype": "text/x-python",
   "name": "python",
   "nbconvert_exporter": "python",
   "pygments_lexer": "ipython3",
   "version": "3.9.12"
  }
 },
 "nbformat": 4,
 "nbformat_minor": 5
}
